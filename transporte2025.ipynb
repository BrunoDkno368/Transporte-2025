{
  "nbformat": 4,
  "nbformat_minor": 0,
  "metadata": {
    "colab": {
      "provenance": [],
      "toc_visible": true,
      "mount_file_id": "1P_fuIy3oBxq4G0Bdsl5Fg1TDUnL8TpAo",
      "authorship_tag": "ABX9TyPNAi1rtTBFSyznKKmrt61G",
      "include_colab_link": true
    },
    "kernelspec": {
      "name": "python3",
      "display_name": "Python 3"
    },
    "language_info": {
      "name": "python"
    }
  },
  "cells": [
    {
      "cell_type": "markdown",
      "metadata": {
        "id": "view-in-github",
        "colab_type": "text"
      },
      "source": [
        "<a href=\"https://colab.research.google.com/github/BrunoDkno368/Transporte-2025/blob/main/transporte2025.ipynb\" target=\"_parent\"><img src=\"https://colab.research.google.com/assets/colab-badge.svg\" alt=\"Open In Colab\"/></a>"
      ]
    },
    {
      "cell_type": "markdown",
      "source": [
        "importamos librerias"
      ],
      "metadata": {
        "id": "jttTy1Mza9nV"
      }
    },
    {
      "cell_type": "code",
      "execution_count": 78,
      "metadata": {
        "id": "ZUY3yXqVav-Y"
      },
      "outputs": [],
      "source": [
        "import pandas as pd\n",
        "import numpy as np\n",
        "import seaborn as sns\n",
        "import matplotlib.pyplot as plt"
      ]
    },
    {
      "cell_type": "markdown",
      "source": [
        "# ETL"
      ],
      "metadata": {
        "id": "0ZkzCaj4bmIz"
      }
    },
    {
      "cell_type": "markdown",
      "source": [
        "## EXTRAT (E)"
      ],
      "metadata": {
        "id": "byjxP6_gbn8S"
      }
    },
    {
      "cell_type": "code",
      "source": [
        "df= pd.read_csv('/content/drive/MyDrive/ETL practica/Datos sube/datos_usos_2025.csv')"
      ],
      "metadata": {
        "id": "ycCNZIRTbIFs"
      },
      "execution_count": 79,
      "outputs": []
    },
    {
      "cell_type": "code",
      "source": [
        "df.sample(5)"
      ],
      "metadata": {
        "colab": {
          "base_uri": "https://localhost:8080/",
          "height": 345
        },
        "id": "UZknyY7tbICb",
        "outputId": "d54d3a67-98bb-4984-dc18-addd3e8996ad"
      },
      "execution_count": 80,
      "outputs": [
        {
          "output_type": "execute_result",
          "data": {
            "text/plain": [
              "       DIA_TRANSPORTE                                     NOMBRE_EMPRESA  \\\n",
              "113393     2025-03-23  TIRO FEDERAL RESISTENCIA SRL- LA CORDIAL SRL- ...   \n",
              "236203     2025-06-15                EMPRESA DE TRANSPORTES ALBARDON SRL   \n",
              "312179     2025-08-05                         AUTOBUSES BUENOS AIRES SRL   \n",
              "412425     2025-10-10                           MICRO OMNIBUS TIGRE S.A.   \n",
              "205288     2025-05-26                                 EXPRESO COLONIA SA   \n",
              "\n",
              "                  LINEA AMBA TIPO_TRANSPORTE JURISDICCION     PROVINCIA  \\\n",
              "113393        LINEA_206   NO       COLECTIVO   PROVINCIAL         CHACO   \n",
              "236203  LINEA_440_SJUAN   NO       COLECTIVO   PROVINCIAL      SAN JUAN   \n",
              "312179   LINEA_548_BSAS   SI       COLECTIVO    MUNICIPAL  BUENOS AIRES   \n",
              "412425  BSAS_LINEA_508A   SI       COLECTIVO    MUNICIPAL  BUENOS AIRES   \n",
              "205288    LINEA_009_NQN   NO       COLECTIVO    MUNICIPAL       NEUQUÉN   \n",
              "\n",
              "                      MUNICIPIO  CANTIDAD DATO_PRELIMINAR  \n",
              "113393                       SN       450              NO  \n",
              "236203                       SN       415              NO  \n",
              "312179          LOMAS DE ZAMORA     11394              NO  \n",
              "412425                  ESCOBAR      1026              SI  \n",
              "205288  SAN MARTIN DE LOS ANDES       362              NO  "
            ],
            "text/html": [
              "\n",
              "  <div id=\"df-dcbfa976-ffdb-4db8-8e20-bb017b17812b\" class=\"colab-df-container\">\n",
              "    <div>\n",
              "<style scoped>\n",
              "    .dataframe tbody tr th:only-of-type {\n",
              "        vertical-align: middle;\n",
              "    }\n",
              "\n",
              "    .dataframe tbody tr th {\n",
              "        vertical-align: top;\n",
              "    }\n",
              "\n",
              "    .dataframe thead th {\n",
              "        text-align: right;\n",
              "    }\n",
              "</style>\n",
              "<table border=\"1\" class=\"dataframe\">\n",
              "  <thead>\n",
              "    <tr style=\"text-align: right;\">\n",
              "      <th></th>\n",
              "      <th>DIA_TRANSPORTE</th>\n",
              "      <th>NOMBRE_EMPRESA</th>\n",
              "      <th>LINEA</th>\n",
              "      <th>AMBA</th>\n",
              "      <th>TIPO_TRANSPORTE</th>\n",
              "      <th>JURISDICCION</th>\n",
              "      <th>PROVINCIA</th>\n",
              "      <th>MUNICIPIO</th>\n",
              "      <th>CANTIDAD</th>\n",
              "      <th>DATO_PRELIMINAR</th>\n",
              "    </tr>\n",
              "  </thead>\n",
              "  <tbody>\n",
              "    <tr>\n",
              "      <th>113393</th>\n",
              "      <td>2025-03-23</td>\n",
              "      <td>TIRO FEDERAL RESISTENCIA SRL- LA CORDIAL SRL- ...</td>\n",
              "      <td>LINEA_206</td>\n",
              "      <td>NO</td>\n",
              "      <td>COLECTIVO</td>\n",
              "      <td>PROVINCIAL</td>\n",
              "      <td>CHACO</td>\n",
              "      <td>SN</td>\n",
              "      <td>450</td>\n",
              "      <td>NO</td>\n",
              "    </tr>\n",
              "    <tr>\n",
              "      <th>236203</th>\n",
              "      <td>2025-06-15</td>\n",
              "      <td>EMPRESA DE TRANSPORTES ALBARDON SRL</td>\n",
              "      <td>LINEA_440_SJUAN</td>\n",
              "      <td>NO</td>\n",
              "      <td>COLECTIVO</td>\n",
              "      <td>PROVINCIAL</td>\n",
              "      <td>SAN JUAN</td>\n",
              "      <td>SN</td>\n",
              "      <td>415</td>\n",
              "      <td>NO</td>\n",
              "    </tr>\n",
              "    <tr>\n",
              "      <th>312179</th>\n",
              "      <td>2025-08-05</td>\n",
              "      <td>AUTOBUSES BUENOS AIRES SRL</td>\n",
              "      <td>LINEA_548_BSAS</td>\n",
              "      <td>SI</td>\n",
              "      <td>COLECTIVO</td>\n",
              "      <td>MUNICIPAL</td>\n",
              "      <td>BUENOS AIRES</td>\n",
              "      <td>LOMAS DE ZAMORA</td>\n",
              "      <td>11394</td>\n",
              "      <td>NO</td>\n",
              "    </tr>\n",
              "    <tr>\n",
              "      <th>412425</th>\n",
              "      <td>2025-10-10</td>\n",
              "      <td>MICRO OMNIBUS TIGRE S.A.</td>\n",
              "      <td>BSAS_LINEA_508A</td>\n",
              "      <td>SI</td>\n",
              "      <td>COLECTIVO</td>\n",
              "      <td>MUNICIPAL</td>\n",
              "      <td>BUENOS AIRES</td>\n",
              "      <td>ESCOBAR</td>\n",
              "      <td>1026</td>\n",
              "      <td>SI</td>\n",
              "    </tr>\n",
              "    <tr>\n",
              "      <th>205288</th>\n",
              "      <td>2025-05-26</td>\n",
              "      <td>EXPRESO COLONIA SA</td>\n",
              "      <td>LINEA_009_NQN</td>\n",
              "      <td>NO</td>\n",
              "      <td>COLECTIVO</td>\n",
              "      <td>MUNICIPAL</td>\n",
              "      <td>NEUQUÉN</td>\n",
              "      <td>SAN MARTIN DE LOS ANDES</td>\n",
              "      <td>362</td>\n",
              "      <td>NO</td>\n",
              "    </tr>\n",
              "  </tbody>\n",
              "</table>\n",
              "</div>\n",
              "    <div class=\"colab-df-buttons\">\n",
              "\n",
              "  <div class=\"colab-df-container\">\n",
              "    <button class=\"colab-df-convert\" onclick=\"convertToInteractive('df-dcbfa976-ffdb-4db8-8e20-bb017b17812b')\"\n",
              "            title=\"Convert this dataframe to an interactive table.\"\n",
              "            style=\"display:none;\">\n",
              "\n",
              "  <svg xmlns=\"http://www.w3.org/2000/svg\" height=\"24px\" viewBox=\"0 -960 960 960\">\n",
              "    <path d=\"M120-120v-720h720v720H120Zm60-500h600v-160H180v160Zm220 220h160v-160H400v160Zm0 220h160v-160H400v160ZM180-400h160v-160H180v160Zm440 0h160v-160H620v160ZM180-180h160v-160H180v160Zm440 0h160v-160H620v160Z\"/>\n",
              "  </svg>\n",
              "    </button>\n",
              "\n",
              "  <style>\n",
              "    .colab-df-container {\n",
              "      display:flex;\n",
              "      gap: 12px;\n",
              "    }\n",
              "\n",
              "    .colab-df-convert {\n",
              "      background-color: #E8F0FE;\n",
              "      border: none;\n",
              "      border-radius: 50%;\n",
              "      cursor: pointer;\n",
              "      display: none;\n",
              "      fill: #1967D2;\n",
              "      height: 32px;\n",
              "      padding: 0 0 0 0;\n",
              "      width: 32px;\n",
              "    }\n",
              "\n",
              "    .colab-df-convert:hover {\n",
              "      background-color: #E2EBFA;\n",
              "      box-shadow: 0px 1px 2px rgba(60, 64, 67, 0.3), 0px 1px 3px 1px rgba(60, 64, 67, 0.15);\n",
              "      fill: #174EA6;\n",
              "    }\n",
              "\n",
              "    .colab-df-buttons div {\n",
              "      margin-bottom: 4px;\n",
              "    }\n",
              "\n",
              "    [theme=dark] .colab-df-convert {\n",
              "      background-color: #3B4455;\n",
              "      fill: #D2E3FC;\n",
              "    }\n",
              "\n",
              "    [theme=dark] .colab-df-convert:hover {\n",
              "      background-color: #434B5C;\n",
              "      box-shadow: 0px 1px 3px 1px rgba(0, 0, 0, 0.15);\n",
              "      filter: drop-shadow(0px 1px 2px rgba(0, 0, 0, 0.3));\n",
              "      fill: #FFFFFF;\n",
              "    }\n",
              "  </style>\n",
              "\n",
              "    <script>\n",
              "      const buttonEl =\n",
              "        document.querySelector('#df-dcbfa976-ffdb-4db8-8e20-bb017b17812b button.colab-df-convert');\n",
              "      buttonEl.style.display =\n",
              "        google.colab.kernel.accessAllowed ? 'block' : 'none';\n",
              "\n",
              "      async function convertToInteractive(key) {\n",
              "        const element = document.querySelector('#df-dcbfa976-ffdb-4db8-8e20-bb017b17812b');\n",
              "        const dataTable =\n",
              "          await google.colab.kernel.invokeFunction('convertToInteractive',\n",
              "                                                    [key], {});\n",
              "        if (!dataTable) return;\n",
              "\n",
              "        const docLinkHtml = 'Like what you see? Visit the ' +\n",
              "          '<a target=\"_blank\" href=https://colab.research.google.com/notebooks/data_table.ipynb>data table notebook</a>'\n",
              "          + ' to learn more about interactive tables.';\n",
              "        element.innerHTML = '';\n",
              "        dataTable['output_type'] = 'display_data';\n",
              "        await google.colab.output.renderOutput(dataTable, element);\n",
              "        const docLink = document.createElement('div');\n",
              "        docLink.innerHTML = docLinkHtml;\n",
              "        element.appendChild(docLink);\n",
              "      }\n",
              "    </script>\n",
              "  </div>\n",
              "\n",
              "\n",
              "    <div id=\"df-74236501-467b-4ea2-9114-97476c60207d\">\n",
              "      <button class=\"colab-df-quickchart\" onclick=\"quickchart('df-74236501-467b-4ea2-9114-97476c60207d')\"\n",
              "                title=\"Suggest charts\"\n",
              "                style=\"display:none;\">\n",
              "\n",
              "<svg xmlns=\"http://www.w3.org/2000/svg\" height=\"24px\"viewBox=\"0 0 24 24\"\n",
              "     width=\"24px\">\n",
              "    <g>\n",
              "        <path d=\"M19 3H5c-1.1 0-2 .9-2 2v14c0 1.1.9 2 2 2h14c1.1 0 2-.9 2-2V5c0-1.1-.9-2-2-2zM9 17H7v-7h2v7zm4 0h-2V7h2v10zm4 0h-2v-4h2v4z\"/>\n",
              "    </g>\n",
              "</svg>\n",
              "      </button>\n",
              "\n",
              "<style>\n",
              "  .colab-df-quickchart {\n",
              "      --bg-color: #E8F0FE;\n",
              "      --fill-color: #1967D2;\n",
              "      --hover-bg-color: #E2EBFA;\n",
              "      --hover-fill-color: #174EA6;\n",
              "      --disabled-fill-color: #AAA;\n",
              "      --disabled-bg-color: #DDD;\n",
              "  }\n",
              "\n",
              "  [theme=dark] .colab-df-quickchart {\n",
              "      --bg-color: #3B4455;\n",
              "      --fill-color: #D2E3FC;\n",
              "      --hover-bg-color: #434B5C;\n",
              "      --hover-fill-color: #FFFFFF;\n",
              "      --disabled-bg-color: #3B4455;\n",
              "      --disabled-fill-color: #666;\n",
              "  }\n",
              "\n",
              "  .colab-df-quickchart {\n",
              "    background-color: var(--bg-color);\n",
              "    border: none;\n",
              "    border-radius: 50%;\n",
              "    cursor: pointer;\n",
              "    display: none;\n",
              "    fill: var(--fill-color);\n",
              "    height: 32px;\n",
              "    padding: 0;\n",
              "    width: 32px;\n",
              "  }\n",
              "\n",
              "  .colab-df-quickchart:hover {\n",
              "    background-color: var(--hover-bg-color);\n",
              "    box-shadow: 0 1px 2px rgba(60, 64, 67, 0.3), 0 1px 3px 1px rgba(60, 64, 67, 0.15);\n",
              "    fill: var(--button-hover-fill-color);\n",
              "  }\n",
              "\n",
              "  .colab-df-quickchart-complete:disabled,\n",
              "  .colab-df-quickchart-complete:disabled:hover {\n",
              "    background-color: var(--disabled-bg-color);\n",
              "    fill: var(--disabled-fill-color);\n",
              "    box-shadow: none;\n",
              "  }\n",
              "\n",
              "  .colab-df-spinner {\n",
              "    border: 2px solid var(--fill-color);\n",
              "    border-color: transparent;\n",
              "    border-bottom-color: var(--fill-color);\n",
              "    animation:\n",
              "      spin 1s steps(1) infinite;\n",
              "  }\n",
              "\n",
              "  @keyframes spin {\n",
              "    0% {\n",
              "      border-color: transparent;\n",
              "      border-bottom-color: var(--fill-color);\n",
              "      border-left-color: var(--fill-color);\n",
              "    }\n",
              "    20% {\n",
              "      border-color: transparent;\n",
              "      border-left-color: var(--fill-color);\n",
              "      border-top-color: var(--fill-color);\n",
              "    }\n",
              "    30% {\n",
              "      border-color: transparent;\n",
              "      border-left-color: var(--fill-color);\n",
              "      border-top-color: var(--fill-color);\n",
              "      border-right-color: var(--fill-color);\n",
              "    }\n",
              "    40% {\n",
              "      border-color: transparent;\n",
              "      border-right-color: var(--fill-color);\n",
              "      border-top-color: var(--fill-color);\n",
              "    }\n",
              "    60% {\n",
              "      border-color: transparent;\n",
              "      border-right-color: var(--fill-color);\n",
              "    }\n",
              "    80% {\n",
              "      border-color: transparent;\n",
              "      border-right-color: var(--fill-color);\n",
              "      border-bottom-color: var(--fill-color);\n",
              "    }\n",
              "    90% {\n",
              "      border-color: transparent;\n",
              "      border-bottom-color: var(--fill-color);\n",
              "    }\n",
              "  }\n",
              "</style>\n",
              "\n",
              "      <script>\n",
              "        async function quickchart(key) {\n",
              "          const quickchartButtonEl =\n",
              "            document.querySelector('#' + key + ' button');\n",
              "          quickchartButtonEl.disabled = true;  // To prevent multiple clicks.\n",
              "          quickchartButtonEl.classList.add('colab-df-spinner');\n",
              "          try {\n",
              "            const charts = await google.colab.kernel.invokeFunction(\n",
              "                'suggestCharts', [key], {});\n",
              "          } catch (error) {\n",
              "            console.error('Error during call to suggestCharts:', error);\n",
              "          }\n",
              "          quickchartButtonEl.classList.remove('colab-df-spinner');\n",
              "          quickchartButtonEl.classList.add('colab-df-quickchart-complete');\n",
              "        }\n",
              "        (() => {\n",
              "          let quickchartButtonEl =\n",
              "            document.querySelector('#df-74236501-467b-4ea2-9114-97476c60207d button');\n",
              "          quickchartButtonEl.style.display =\n",
              "            google.colab.kernel.accessAllowed ? 'block' : 'none';\n",
              "        })();\n",
              "      </script>\n",
              "    </div>\n",
              "\n",
              "    </div>\n",
              "  </div>\n"
            ],
            "application/vnd.google.colaboratory.intrinsic+json": {
              "type": "dataframe",
              "repr_error": "0"
            }
          },
          "metadata": {},
          "execution_count": 80
        }
      ]
    },
    {
      "cell_type": "markdown",
      "source": [
        "## TRANSFORM (T)"
      ],
      "metadata": {
        "id": "LTlNCSm0bwgC"
      }
    },
    {
      "cell_type": "markdown",
      "source": [
        "filas / columnas"
      ],
      "metadata": {
        "id": "8_IAgU6kdvOn"
      }
    },
    {
      "cell_type": "code",
      "source": [
        "print('la cantidad de filas que tiene es:', df.shape[0])"
      ],
      "metadata": {
        "colab": {
          "base_uri": "https://localhost:8080/"
        },
        "id": "_RicpieubH_d",
        "outputId": "e396fd4d-d825-46e7-e31c-f1c8240d2181"
      },
      "execution_count": 81,
      "outputs": [
        {
          "output_type": "stream",
          "name": "stdout",
          "text": [
            "la cantidad de filas que tiene es: 432018\n"
          ]
        }
      ]
    },
    {
      "cell_type": "code",
      "source": [
        "print('La cantidad de columnas que tiene es:', df.shape[1])"
      ],
      "metadata": {
        "colab": {
          "base_uri": "https://localhost:8080/"
        },
        "id": "cUkUyIZ-bH8V",
        "outputId": "825906f8-a973-4024-9823-cb0dcbfbd589"
      },
      "execution_count": 82,
      "outputs": [
        {
          "output_type": "stream",
          "name": "stdout",
          "text": [
            "La cantidad de columnas que tiene es: 10\n"
          ]
        }
      ]
    },
    {
      "cell_type": "markdown",
      "source": [
        "Informacion del df"
      ],
      "metadata": {
        "id": "sdSNdKs3fy4E"
      }
    },
    {
      "cell_type": "code",
      "source": [
        "print('la informacion del df es:''\\n', df.info())"
      ],
      "metadata": {
        "colab": {
          "base_uri": "https://localhost:8080/"
        },
        "id": "DhnSjrJ6f1Ok",
        "outputId": "1b781b83-4576-4528-84ab-ba7dd7052d54"
      },
      "execution_count": 83,
      "outputs": [
        {
          "output_type": "stream",
          "name": "stdout",
          "text": [
            "<class 'pandas.core.frame.DataFrame'>\n",
            "RangeIndex: 432018 entries, 0 to 432017\n",
            "Data columns (total 10 columns):\n",
            " #   Column           Non-Null Count   Dtype \n",
            "---  ------           --------------   ----- \n",
            " 0   DIA_TRANSPORTE   432018 non-null  object\n",
            " 1   NOMBRE_EMPRESA   432018 non-null  object\n",
            " 2   LINEA            432018 non-null  object\n",
            " 3   AMBA             432018 non-null  object\n",
            " 4   TIPO_TRANSPORTE  432018 non-null  object\n",
            " 5   JURISDICCION     429893 non-null  object\n",
            " 6   PROVINCIA        429893 non-null  object\n",
            " 7   MUNICIPIO        429893 non-null  object\n",
            " 8   CANTIDAD         432018 non-null  int64 \n",
            " 9   DATO_PRELIMINAR  432018 non-null  object\n",
            "dtypes: int64(1), object(9)\n",
            "memory usage: 33.0+ MB\n",
            "la informacion del df es:\n",
            " None\n"
          ]
        }
      ]
    },
    {
      "cell_type": "markdown",
      "source": [
        "Normalizacion del dato DIA_TRANSPORTE que esta como tipo object al tipo fecha"
      ],
      "metadata": {
        "id": "KtOVQRf_g3wK"
      }
    },
    {
      "cell_type": "code",
      "source": [
        "df['DIA_TRANSPORTE'] = pd.to_datetime(df['DIA_TRANSPORTE'])\n",
        "print(df['DIA_TRANSPORTE'].info())   # confirmamos que se cambio el tipo de dato por datetimes64"
      ],
      "metadata": {
        "colab": {
          "base_uri": "https://localhost:8080/"
        },
        "id": "UitNLRuwhA1J",
        "outputId": "c9554ff1-9f4e-4bb6-d025-97958e825dc5"
      },
      "execution_count": 84,
      "outputs": [
        {
          "output_type": "stream",
          "name": "stdout",
          "text": [
            "<class 'pandas.core.series.Series'>\n",
            "RangeIndex: 432018 entries, 0 to 432017\n",
            "Series name: DIA_TRANSPORTE\n",
            "Non-Null Count   Dtype         \n",
            "--------------   -----         \n",
            "432018 non-null  datetime64[ns]\n",
            "dtypes: datetime64[ns](1)\n",
            "memory usage: 3.3 MB\n",
            "None\n"
          ]
        }
      ]
    },
    {
      "cell_type": "markdown",
      "source": [
        "Estadisticas Basicas"
      ],
      "metadata": {
        "id": "yYiqc9fmd0M3"
      }
    },
    {
      "cell_type": "code",
      "source": [
        "print('las estadisticas del df son:''\\n', df.describe())"
      ],
      "metadata": {
        "colab": {
          "base_uri": "https://localhost:8080/"
        },
        "id": "NciUkDtFbH5b",
        "outputId": "780e378d-8d1e-4cf8-fed1-c5bccc21c310"
      },
      "execution_count": 85,
      "outputs": [
        {
          "output_type": "stream",
          "name": "stdout",
          "text": [
            "las estadisticas del df son:\n",
            "                       DIA_TRANSPORTE       CANTIDAD\n",
            "count                         432018  432018.000000\n",
            "mean   2025-05-31 11:28:55.077704960    7304.887384\n",
            "min              2025-01-01 00:00:00      -1.000000\n",
            "25%              2025-03-19 00:00:00     468.000000\n",
            "50%              2025-06-02 00:00:00    1849.000000\n",
            "75%              2025-08-13 00:00:00    6517.000000\n",
            "max              2025-10-22 00:00:00  467163.000000\n",
            "std                              NaN   16990.821733\n"
          ]
        }
      ]
    },
    {
      "cell_type": "markdown",
      "source": [
        "Cantidad de nulos y faltantes"
      ],
      "metadata": {
        "id": "Noacdn2jfGdl"
      }
    },
    {
      "cell_type": "code",
      "source": [
        "print(df.isna().sum())"
      ],
      "metadata": {
        "colab": {
          "base_uri": "https://localhost:8080/"
        },
        "id": "cOLfiGz-fJg8",
        "outputId": "60a01e61-66c7-47c4-9459-6e71d56da1a2"
      },
      "execution_count": 86,
      "outputs": [
        {
          "output_type": "stream",
          "name": "stdout",
          "text": [
            "DIA_TRANSPORTE        0\n",
            "NOMBRE_EMPRESA        0\n",
            "LINEA                 0\n",
            "AMBA                  0\n",
            "TIPO_TRANSPORTE       0\n",
            "JURISDICCION       2125\n",
            "PROVINCIA          2125\n",
            "MUNICIPIO          2125\n",
            "CANTIDAD              0\n",
            "DATO_PRELIMINAR       0\n",
            "dtype: int64\n"
          ]
        }
      ]
    },
    {
      "cell_type": "markdown",
      "source": [
        "verificamos en % cuantos son los datos faltantes"
      ],
      "metadata": {
        "id": "ALkoyngwg1By"
      }
    },
    {
      "cell_type": "code",
      "source": [
        "print(f' el servicio posee en % :''\\n',(df.isna().sum()/len(df))*100)"
      ],
      "metadata": {
        "colab": {
          "base_uri": "https://localhost:8080/"
        },
        "id": "Ivl_AqaDg0X6",
        "outputId": "12d0165c-45cc-4ea8-d720-b38fc23304e7"
      },
      "execution_count": 87,
      "outputs": [
        {
          "output_type": "stream",
          "name": "stdout",
          "text": [
            " el servicio posee en % :\n",
            " DIA_TRANSPORTE     0.000000\n",
            "NOMBRE_EMPRESA     0.000000\n",
            "LINEA              0.000000\n",
            "AMBA               0.000000\n",
            "TIPO_TRANSPORTE    0.000000\n",
            "JURISDICCION       0.491878\n",
            "PROVINCIA          0.491878\n",
            "MUNICIPIO          0.491878\n",
            "CANTIDAD           0.000000\n",
            "DATO_PRELIMINAR    0.000000\n",
            "dtype: float64\n"
          ]
        }
      ]
    },
    {
      "cell_type": "markdown",
      "source": [
        "Cambiamos los datos que no posee por \"sin datos\""
      ],
      "metadata": {
        "id": "ogoI9n_ljPS-"
      }
    },
    {
      "cell_type": "code",
      "source": [
        "df = df.fillna('Sin datos')"
      ],
      "metadata": {
        "id": "msVdeYRRjNXn"
      },
      "execution_count": 88,
      "outputs": []
    },
    {
      "cell_type": "code",
      "source": [
        "print(df[['JURISDICCION','PROVINCIA','MUNICIPIO']].isna().sum()) #Confirmamos que ya no poseen nulos"
      ],
      "metadata": {
        "colab": {
          "base_uri": "https://localhost:8080/"
        },
        "id": "mO6wY4NhkywM",
        "outputId": "eefc7c97-e4f4-48b3-84b5-0e9f52779782"
      },
      "execution_count": 89,
      "outputs": [
        {
          "output_type": "stream",
          "name": "stdout",
          "text": [
            "JURISDICCION    0\n",
            "PROVINCIA       0\n",
            "MUNICIPIO       0\n",
            "dtype: int64\n"
          ]
        }
      ]
    },
    {
      "cell_type": "markdown",
      "source": [
        "Creamos nuevas columnas"
      ],
      "metadata": {
        "id": "cYw1WjOzquuD"
      }
    },
    {
      "cell_type": "code",
      "source": [
        "#Creamos la columna MES\n",
        "df['MES'] = df['DIA_TRANSPORTE'].dt.month\n",
        "print('el df posee las siguientes columnas:',df.columns)"
      ],
      "metadata": {
        "colab": {
          "base_uri": "https://localhost:8080/"
        },
        "id": "648y8ma-qy6q",
        "outputId": "e40ac4ee-696c-4b4f-e43e-64555c556699"
      },
      "execution_count": 90,
      "outputs": [
        {
          "output_type": "stream",
          "name": "stdout",
          "text": [
            "el df posee las siguientes columnas: Index(['DIA_TRANSPORTE', 'NOMBRE_EMPRESA', 'LINEA', 'AMBA', 'TIPO_TRANSPORTE',\n",
            "       'JURISDICCION', 'PROVINCIA', 'MUNICIPIO', 'CANTIDAD', 'DATO_PRELIMINAR',\n",
            "       'MES'],\n",
            "      dtype='object')\n"
          ]
        }
      ]
    },
    {
      "cell_type": "code",
      "source": [
        "df['MES'].unique()  #Como mes esta en numero lo vamos a pasar a nombre"
      ],
      "metadata": {
        "colab": {
          "base_uri": "https://localhost:8080/"
        },
        "id": "GZL61UUsrsEZ",
        "outputId": "d7e9a8d9-c763-4c32-bfab-867390255a3f"
      },
      "execution_count": 91,
      "outputs": [
        {
          "output_type": "execute_result",
          "data": {
            "text/plain": [
              "array([ 1,  2,  3,  4,  5,  6,  7,  8,  9, 10], dtype=int32)"
            ]
          },
          "metadata": {},
          "execution_count": 91
        }
      ]
    },
    {
      "cell_type": "code",
      "source": [
        "#Creamos un diccionanrio para renombrar los datos de la columna MES\n",
        "Mes = {1:'Enero', 2:'Febrero', 3:'Marzo',4:'Abril',5:'Mayo',6:'Junio',7:'Julio',8:'Agosto',9:'Septiembre',10:'Octubre'}"
      ],
      "metadata": {
        "id": "cykRei2tr5yI"
      },
      "execution_count": 92,
      "outputs": []
    },
    {
      "cell_type": "code",
      "source": [
        "#Realizamos el cambio\n",
        "df['MES']= df['MES'].map(Mes)"
      ],
      "metadata": {
        "id": "t-2hpf29sH9P"
      },
      "execution_count": 93,
      "outputs": []
    },
    {
      "cell_type": "code",
      "source": [
        "df['MES'].unique()   #Confirmamos que quedaron cambiados el nombre de los registros"
      ],
      "metadata": {
        "colab": {
          "base_uri": "https://localhost:8080/"
        },
        "id": "Tti6tN73sTL_",
        "outputId": "a757c4f6-bd27-4cec-a05b-894cbc970025"
      },
      "execution_count": 94,
      "outputs": [
        {
          "output_type": "execute_result",
          "data": {
            "text/plain": [
              "array(['Enero', 'Febrero', 'Marzo', 'Abril', 'Mayo', 'Junio', 'Julio',\n",
              "       'Agosto', 'Septiembre', 'Octubre'], dtype=object)"
            ]
          },
          "metadata": {},
          "execution_count": 94
        }
      ]
    },
    {
      "cell_type": "code",
      "source": [
        "#Creamos la columna DIA\n",
        "df['DIA'] = df['DIA_TRANSPORTE'].dt.day_name()\n",
        "df['DIA'].unique()"
      ],
      "metadata": {
        "colab": {
          "base_uri": "https://localhost:8080/"
        },
        "id": "CNGzksZb633P",
        "outputId": "aceed242-7929-41cf-cdb4-856c10f3d1b9"
      },
      "execution_count": 95,
      "outputs": [
        {
          "output_type": "execute_result",
          "data": {
            "text/plain": [
              "array(['Wednesday', 'Thursday', 'Friday', 'Saturday', 'Sunday', 'Monday',\n",
              "       'Tuesday'], dtype=object)"
            ]
          },
          "metadata": {},
          "execution_count": 95
        }
      ]
    },
    {
      "cell_type": "code",
      "source": [
        "# Como los dias estan en Ingles, creamos un diccionario para pasar a Español los dias\n",
        "dias = {\n",
        "    'Monday': 'Lunes',\n",
        "    'Tuesday': 'Martes',\n",
        "    'Wednesday': 'Miércoles',\n",
        "    'Thursday': 'Jueves',\n",
        "    'Friday': 'Viernes',\n",
        "    'Saturday': 'Sábado',\n",
        "    'Sunday': 'Domingo'\n",
        "}"
      ],
      "metadata": {
        "id": "6QcugnZA7RNe"
      },
      "execution_count": 96,
      "outputs": []
    },
    {
      "cell_type": "code",
      "source": [
        "#Mapeamos dias de la semana y confirmamos que quedaron cambiados\n",
        "df['DIA'] = df['DIA'].map(dias)\n",
        "df['DIA'].unique()"
      ],
      "metadata": {
        "colab": {
          "base_uri": "https://localhost:8080/"
        },
        "id": "60PnUThDH1G5",
        "outputId": "d5a7172e-b1db-4f87-91c0-bca65df74f8e"
      },
      "execution_count": 97,
      "outputs": [
        {
          "output_type": "execute_result",
          "data": {
            "text/plain": [
              "array(['Miércoles', 'Jueves', 'Viernes', 'Sábado', 'Domingo', 'Lunes',\n",
              "       'Martes'], dtype=object)"
            ]
          },
          "metadata": {},
          "execution_count": 97
        }
      ]
    },
    {
      "cell_type": "code",
      "source": [
        "df['PROVINCIA'].unique()"
      ],
      "metadata": {
        "colab": {
          "base_uri": "https://localhost:8080/"
        },
        "id": "wfA581rcIHuY",
        "outputId": "3a7c9071-b78b-4c14-c749-c4ce93123f1d"
      },
      "execution_count": 98,
      "outputs": [
        {
          "output_type": "execute_result",
          "data": {
            "text/plain": [
              "array(['BUENOS AIRES', 'JN', 'Sin datos', 'CHUBUT', 'ENTRE RÍOS',\n",
              "       'LA PAMPA', 'TUCUMAN', 'MENDOZA', 'SANTA FE', 'RÍO NEGRO',\n",
              "       'FORMOSA', 'SANTA CRUZ', 'TIERRA DEL FUEGO', 'JUJUY', 'NEUQUÉN',\n",
              "       'CHACO', 'CORRIENTES', 'CATAMARCA', 'SAN LUIS', 'CORDOBA',\n",
              "       'SANTIAGO DEL ESTERO', 'SAN JUAN', 'C.A.B.A',\n",
              "       'CIUDAD AUTÓNOMA DE BUENOS AIRES'], dtype=object)"
            ]
          },
          "metadata": {},
          "execution_count": 98
        }
      ]
    },
    {
      "cell_type": "code",
      "source": [
        "# PROVINCIA posee registros que dicen JN lo reemplazamos por Jurisdiccion Nacional\n",
        "df['PROVINCIA'] = df['PROVINCIA'].replace('JN','JURISDICCION NACIONAL')\n",
        "df['PROVINCIA'].unique()"
      ],
      "metadata": {
        "colab": {
          "base_uri": "https://localhost:8080/"
        },
        "id": "5M4-J78fLKSM",
        "outputId": "c6f62a4a-60b2-440c-ed45-dac2be8b518f"
      },
      "execution_count": 99,
      "outputs": [
        {
          "output_type": "execute_result",
          "data": {
            "text/plain": [
              "array(['BUENOS AIRES', 'JURISDICCION NACIONAL', 'Sin datos', 'CHUBUT',\n",
              "       'ENTRE RÍOS', 'LA PAMPA', 'TUCUMAN', 'MENDOZA', 'SANTA FE',\n",
              "       'RÍO NEGRO', 'FORMOSA', 'SANTA CRUZ', 'TIERRA DEL FUEGO', 'JUJUY',\n",
              "       'NEUQUÉN', 'CHACO', 'CORRIENTES', 'CATAMARCA', 'SAN LUIS',\n",
              "       'CORDOBA', 'SANTIAGO DEL ESTERO', 'SAN JUAN', 'C.A.B.A',\n",
              "       'CIUDAD AUTÓNOMA DE BUENOS AIRES'], dtype=object)"
            ]
          },
          "metadata": {},
          "execution_count": 99
        }
      ]
    },
    {
      "cell_type": "code",
      "source": [
        "df.groupby('PROVINCIA')['CANTIDAD'].sum()"
      ],
      "metadata": {
        "colab": {
          "base_uri": "https://localhost:8080/",
          "height": 868
        },
        "id": "FiDORWX3aiZN",
        "outputId": "74e83768-2186-4154-e1d5-35decc6de713"
      },
      "execution_count": 100,
      "outputs": [
        {
          "output_type": "execute_result",
          "data": {
            "text/plain": [
              "PROVINCIA\n",
              "BUENOS AIRES                       1184963455\n",
              "C.A.B.A                             179206642\n",
              "CATAMARCA                            10959953\n",
              "CHACO                                14017126\n",
              "CHUBUT                               20304097\n",
              "CIUDAD AUTÓNOMA DE BUENOS AIRES         33885\n",
              "CORDOBA                              21714572\n",
              "CORRIENTES                           18277513\n",
              "ENTRE RÍOS                           20139783\n",
              "FORMOSA                               3798931\n",
              "JUJUY                                46065401\n",
              "JURISDICCION NACIONAL              1088942545\n",
              "LA PAMPA                              1981614\n",
              "MENDOZA                             162579562\n",
              "NEUQUÉN                              25531973\n",
              "RÍO NEGRO                            12526977\n",
              "SAN JUAN                             68680837\n",
              "SAN LUIS                              9799403\n",
              "SANTA CRUZ                            1795207\n",
              "SANTA FE                            120415049\n",
              "SANTIAGO DEL ESTERO                    616844\n",
              "Sin datos                           117695124\n",
              "TIERRA DEL FUEGO                      5998512\n",
              "TUCUMAN                              19797833\n",
              "Name: CANTIDAD, dtype: int64"
            ],
            "text/html": [
              "<div>\n",
              "<style scoped>\n",
              "    .dataframe tbody tr th:only-of-type {\n",
              "        vertical-align: middle;\n",
              "    }\n",
              "\n",
              "    .dataframe tbody tr th {\n",
              "        vertical-align: top;\n",
              "    }\n",
              "\n",
              "    .dataframe thead th {\n",
              "        text-align: right;\n",
              "    }\n",
              "</style>\n",
              "<table border=\"1\" class=\"dataframe\">\n",
              "  <thead>\n",
              "    <tr style=\"text-align: right;\">\n",
              "      <th></th>\n",
              "      <th>CANTIDAD</th>\n",
              "    </tr>\n",
              "    <tr>\n",
              "      <th>PROVINCIA</th>\n",
              "      <th></th>\n",
              "    </tr>\n",
              "  </thead>\n",
              "  <tbody>\n",
              "    <tr>\n",
              "      <th>BUENOS AIRES</th>\n",
              "      <td>1184963455</td>\n",
              "    </tr>\n",
              "    <tr>\n",
              "      <th>C.A.B.A</th>\n",
              "      <td>179206642</td>\n",
              "    </tr>\n",
              "    <tr>\n",
              "      <th>CATAMARCA</th>\n",
              "      <td>10959953</td>\n",
              "    </tr>\n",
              "    <tr>\n",
              "      <th>CHACO</th>\n",
              "      <td>14017126</td>\n",
              "    </tr>\n",
              "    <tr>\n",
              "      <th>CHUBUT</th>\n",
              "      <td>20304097</td>\n",
              "    </tr>\n",
              "    <tr>\n",
              "      <th>CIUDAD AUTÓNOMA DE BUENOS AIRES</th>\n",
              "      <td>33885</td>\n",
              "    </tr>\n",
              "    <tr>\n",
              "      <th>CORDOBA</th>\n",
              "      <td>21714572</td>\n",
              "    </tr>\n",
              "    <tr>\n",
              "      <th>CORRIENTES</th>\n",
              "      <td>18277513</td>\n",
              "    </tr>\n",
              "    <tr>\n",
              "      <th>ENTRE RÍOS</th>\n",
              "      <td>20139783</td>\n",
              "    </tr>\n",
              "    <tr>\n",
              "      <th>FORMOSA</th>\n",
              "      <td>3798931</td>\n",
              "    </tr>\n",
              "    <tr>\n",
              "      <th>JUJUY</th>\n",
              "      <td>46065401</td>\n",
              "    </tr>\n",
              "    <tr>\n",
              "      <th>JURISDICCION NACIONAL</th>\n",
              "      <td>1088942545</td>\n",
              "    </tr>\n",
              "    <tr>\n",
              "      <th>LA PAMPA</th>\n",
              "      <td>1981614</td>\n",
              "    </tr>\n",
              "    <tr>\n",
              "      <th>MENDOZA</th>\n",
              "      <td>162579562</td>\n",
              "    </tr>\n",
              "    <tr>\n",
              "      <th>NEUQUÉN</th>\n",
              "      <td>25531973</td>\n",
              "    </tr>\n",
              "    <tr>\n",
              "      <th>RÍO NEGRO</th>\n",
              "      <td>12526977</td>\n",
              "    </tr>\n",
              "    <tr>\n",
              "      <th>SAN JUAN</th>\n",
              "      <td>68680837</td>\n",
              "    </tr>\n",
              "    <tr>\n",
              "      <th>SAN LUIS</th>\n",
              "      <td>9799403</td>\n",
              "    </tr>\n",
              "    <tr>\n",
              "      <th>SANTA CRUZ</th>\n",
              "      <td>1795207</td>\n",
              "    </tr>\n",
              "    <tr>\n",
              "      <th>SANTA FE</th>\n",
              "      <td>120415049</td>\n",
              "    </tr>\n",
              "    <tr>\n",
              "      <th>SANTIAGO DEL ESTERO</th>\n",
              "      <td>616844</td>\n",
              "    </tr>\n",
              "    <tr>\n",
              "      <th>Sin datos</th>\n",
              "      <td>117695124</td>\n",
              "    </tr>\n",
              "    <tr>\n",
              "      <th>TIERRA DEL FUEGO</th>\n",
              "      <td>5998512</td>\n",
              "    </tr>\n",
              "    <tr>\n",
              "      <th>TUCUMAN</th>\n",
              "      <td>19797833</td>\n",
              "    </tr>\n",
              "  </tbody>\n",
              "</table>\n",
              "</div><br><label><b>dtype:</b> int64</label>"
            ]
          },
          "metadata": {},
          "execution_count": 100
        }
      ]
    },
    {
      "cell_type": "code",
      "source": [
        "df['PROVINCIA'] = df['PROVINCIA'].replace('CIUDAD AUTÓNOMA DE BUENOS AIRES', 'C.A.B.A' )"
      ],
      "metadata": {
        "id": "PPppVIlJaSR2"
      },
      "execution_count": 101,
      "outputs": []
    },
    {
      "cell_type": "code",
      "source": [
        "df['PROVINCIA'].unique()"
      ],
      "metadata": {
        "colab": {
          "base_uri": "https://localhost:8080/"
        },
        "id": "aMXRTHXkbJaM",
        "outputId": "8cf8c171-3a0e-4198-9aa3-93006c8cfb0d"
      },
      "execution_count": 102,
      "outputs": [
        {
          "output_type": "execute_result",
          "data": {
            "text/plain": [
              "array(['BUENOS AIRES', 'JURISDICCION NACIONAL', 'Sin datos', 'CHUBUT',\n",
              "       'ENTRE RÍOS', 'LA PAMPA', 'TUCUMAN', 'MENDOZA', 'SANTA FE',\n",
              "       'RÍO NEGRO', 'FORMOSA', 'SANTA CRUZ', 'TIERRA DEL FUEGO', 'JUJUY',\n",
              "       'NEUQUÉN', 'CHACO', 'CORRIENTES', 'CATAMARCA', 'SAN LUIS',\n",
              "       'CORDOBA', 'SANTIAGO DEL ESTERO', 'SAN JUAN', 'C.A.B.A'],\n",
              "      dtype=object)"
            ]
          },
          "metadata": {},
          "execution_count": 102
        }
      ]
    },
    {
      "cell_type": "markdown",
      "source": [
        "##LOAD (L)"
      ],
      "metadata": {
        "id": "RXSRPnmQMLR5"
      }
    },
    {
      "cell_type": "code",
      "source": [
        "df.to_csv('datos_usos_2025_ETL.csv', index=False)"
      ],
      "metadata": {
        "id": "UpC3sKtWL7VS"
      },
      "execution_count": 103,
      "outputs": []
    },
    {
      "cell_type": "markdown",
      "source": [
        "#EDA"
      ],
      "metadata": {
        "id": "1V8zLNGbPoos"
      }
    },
    {
      "cell_type": "markdown",
      "source": [
        "Grafico por tipo de transporte"
      ],
      "metadata": {
        "id": "721er0W3QM0r"
      }
    },
    {
      "cell_type": "code",
      "source": [
        "df.columns"
      ],
      "metadata": {
        "colab": {
          "base_uri": "https://localhost:8080/"
        },
        "id": "_QvE7I38QV5r",
        "outputId": "bd56bc96-0165-46b6-cb77-4a7f08ccee22"
      },
      "execution_count": 104,
      "outputs": [
        {
          "output_type": "execute_result",
          "data": {
            "text/plain": [
              "Index(['DIA_TRANSPORTE', 'NOMBRE_EMPRESA', 'LINEA', 'AMBA', 'TIPO_TRANSPORTE',\n",
              "       'JURISDICCION', 'PROVINCIA', 'MUNICIPIO', 'CANTIDAD', 'DATO_PRELIMINAR',\n",
              "       'MES', 'DIA'],\n",
              "      dtype='object')"
            ]
          },
          "metadata": {},
          "execution_count": 104
        }
      ]
    },
    {
      "cell_type": "code",
      "source": [
        "df.groupby('TIPO_TRANSPORTE')['CANTIDAD'].sum().sort_values(ascending=False)"
      ],
      "metadata": {
        "colab": {
          "base_uri": "https://localhost:8080/",
          "height": 272
        },
        "id": "wUF6NmV__v4_",
        "outputId": "2104081a-ecce-47e4-c8ce-b0d9d54c59e6"
      },
      "execution_count": 105,
      "outputs": [
        {
          "output_type": "execute_result",
          "data": {
            "text/plain": [
              "TIPO_TRANSPORTE\n",
              "COLECTIVO    2793733187\n",
              "TREN          244010225\n",
              "SUBTE         117695124\n",
              "LANCHAS          403667\n",
              "CIRCULAR            635\n",
              "Name: CANTIDAD, dtype: int64"
            ],
            "text/html": [
              "<div>\n",
              "<style scoped>\n",
              "    .dataframe tbody tr th:only-of-type {\n",
              "        vertical-align: middle;\n",
              "    }\n",
              "\n",
              "    .dataframe tbody tr th {\n",
              "        vertical-align: top;\n",
              "    }\n",
              "\n",
              "    .dataframe thead th {\n",
              "        text-align: right;\n",
              "    }\n",
              "</style>\n",
              "<table border=\"1\" class=\"dataframe\">\n",
              "  <thead>\n",
              "    <tr style=\"text-align: right;\">\n",
              "      <th></th>\n",
              "      <th>CANTIDAD</th>\n",
              "    </tr>\n",
              "    <tr>\n",
              "      <th>TIPO_TRANSPORTE</th>\n",
              "      <th></th>\n",
              "    </tr>\n",
              "  </thead>\n",
              "  <tbody>\n",
              "    <tr>\n",
              "      <th>COLECTIVO</th>\n",
              "      <td>2793733187</td>\n",
              "    </tr>\n",
              "    <tr>\n",
              "      <th>TREN</th>\n",
              "      <td>244010225</td>\n",
              "    </tr>\n",
              "    <tr>\n",
              "      <th>SUBTE</th>\n",
              "      <td>117695124</td>\n",
              "    </tr>\n",
              "    <tr>\n",
              "      <th>LANCHAS</th>\n",
              "      <td>403667</td>\n",
              "    </tr>\n",
              "    <tr>\n",
              "      <th>CIRCULAR</th>\n",
              "      <td>635</td>\n",
              "    </tr>\n",
              "  </tbody>\n",
              "</table>\n",
              "</div><br><label><b>dtype:</b> int64</label>"
            ]
          },
          "metadata": {},
          "execution_count": 105
        }
      ]
    },
    {
      "cell_type": "code",
      "source": [
        "df.groupby('TIPO_TRANSPORTE')['CANTIDAD'].sum().sort_values().plot(kind='barh')"
      ],
      "metadata": {
        "colab": {
          "base_uri": "https://localhost:8080/",
          "height": 465
        },
        "id": "vW5OPYc8L7Sa",
        "outputId": "28cec1e5-1fb1-4412-c3f4-56377c227b4f"
      },
      "execution_count": 106,
      "outputs": [
        {
          "output_type": "execute_result",
          "data": {
            "text/plain": [
              "<Axes: ylabel='TIPO_TRANSPORTE'>"
            ]
          },
          "metadata": {},
          "execution_count": 106
        },
        {
          "output_type": "display_data",
          "data": {
            "text/plain": [
              "<Figure size 640x480 with 1 Axes>"
            ],
            "image/png": "[encoded data removed]"
          },
          "metadata": {}
        }
      ]
    },
    {
      "cell_type": "code",
      "source": [
        "df.groupby('TIPO_TRANSPORTE')['CANTIDAD'].sum()"
      ],
      "metadata": {
        "colab": {
          "base_uri": "https://localhost:8080/",
          "height": 272
        },
        "id": "PEWw7TvoL7LL",
        "outputId": "7fef772f-f5e4-48ea-cc94-001ed4129797"
      },
      "execution_count": 107,
      "outputs": [
        {
          "output_type": "execute_result",
          "data": {
            "text/plain": [
              "TIPO_TRANSPORTE\n",
              "CIRCULAR            635\n",
              "COLECTIVO    2793733187\n",
              "LANCHAS          403667\n",
              "SUBTE         117695124\n",
              "TREN          244010225\n",
              "Name: CANTIDAD, dtype: int64"
            ],
            "text/html": [
              "<div>\n",
              "<style scoped>\n",
              "    .dataframe tbody tr th:only-of-type {\n",
              "        vertical-align: middle;\n",
              "    }\n",
              "\n",
              "    .dataframe tbody tr th {\n",
              "        vertical-align: top;\n",
              "    }\n",
              "\n",
              "    .dataframe thead th {\n",
              "        text-align: right;\n",
              "    }\n",
              "</style>\n",
              "<table border=\"1\" class=\"dataframe\">\n",
              "  <thead>\n",
              "    <tr style=\"text-align: right;\">\n",
              "      <th></th>\n",
              "      <th>CANTIDAD</th>\n",
              "    </tr>\n",
              "    <tr>\n",
              "      <th>TIPO_TRANSPORTE</th>\n",
              "      <th></th>\n",
              "    </tr>\n",
              "  </thead>\n",
              "  <tbody>\n",
              "    <tr>\n",
              "      <th>CIRCULAR</th>\n",
              "      <td>635</td>\n",
              "    </tr>\n",
              "    <tr>\n",
              "      <th>COLECTIVO</th>\n",
              "      <td>2793733187</td>\n",
              "    </tr>\n",
              "    <tr>\n",
              "      <th>LANCHAS</th>\n",
              "      <td>403667</td>\n",
              "    </tr>\n",
              "    <tr>\n",
              "      <th>SUBTE</th>\n",
              "      <td>117695124</td>\n",
              "    </tr>\n",
              "    <tr>\n",
              "      <th>TREN</th>\n",
              "      <td>244010225</td>\n",
              "    </tr>\n",
              "  </tbody>\n",
              "</table>\n",
              "</div><br><label><b>dtype:</b> int64</label>"
            ]
          },
          "metadata": {},
          "execution_count": 107
        }
      ]
    },
    {
      "cell_type": "markdown",
      "source": [
        "Interior vs amba"
      ],
      "metadata": {
        "id": "sJ83E-_nV9eB"
      }
    },
    {
      "cell_type": "code",
      "source": [
        "df.groupby('AMBA')['CANTIDAD'].sum().sort_values(ascending=False)"
      ],
      "metadata": {
        "colab": {
          "base_uri": "https://localhost:8080/",
          "height": 178
        },
        "id": "oK8aOHjDVrUU",
        "outputId": "669dfcad-b202-4183-e482-40440fc96e22"
      },
      "execution_count": 108,
      "outputs": [
        {
          "output_type": "execute_result",
          "data": {
            "text/plain": [
              "AMBA\n",
              "SI    2465168445\n",
              "NO     690674393\n",
              "Name: CANTIDAD, dtype: int64"
            ],
            "text/html": [
              "<div>\n",
              "<style scoped>\n",
              "    .dataframe tbody tr th:only-of-type {\n",
              "        vertical-align: middle;\n",
              "    }\n",
              "\n",
              "    .dataframe tbody tr th {\n",
              "        vertical-align: top;\n",
              "    }\n",
              "\n",
              "    .dataframe thead th {\n",
              "        text-align: right;\n",
              "    }\n",
              "</style>\n",
              "<table border=\"1\" class=\"dataframe\">\n",
              "  <thead>\n",
              "    <tr style=\"text-align: right;\">\n",
              "      <th></th>\n",
              "      <th>CANTIDAD</th>\n",
              "    </tr>\n",
              "    <tr>\n",
              "      <th>AMBA</th>\n",
              "      <th></th>\n",
              "    </tr>\n",
              "  </thead>\n",
              "  <tbody>\n",
              "    <tr>\n",
              "      <th>SI</th>\n",
              "      <td>2465168445</td>\n",
              "    </tr>\n",
              "    <tr>\n",
              "      <th>NO</th>\n",
              "      <td>690674393</td>\n",
              "    </tr>\n",
              "  </tbody>\n",
              "</table>\n",
              "</div><br><label><b>dtype:</b> int64</label>"
            ]
          },
          "metadata": {},
          "execution_count": 108
        }
      ]
    },
    {
      "cell_type": "code",
      "source": [
        "df.groupby('AMBA')['CANTIDAD'].sum().plot(kind='pie',  autopct='%1.1f%%')\n",
        "plt.ylabel('')\n",
        "plt.xlabel('')\n",
        "plt.show()"
      ],
      "metadata": {
        "colab": {
          "base_uri": "https://localhost:8080/",
          "height": 406
        },
        "id": "2FPn1H_QVrRa",
        "outputId": "1900ec76-58fd-45dd-a192-fab76dd55f32"
      },
      "execution_count": 109,
      "outputs": [
        {
          "output_type": "display_data",
          "data": {
            "text/plain": [
              "<Figure size 640x480 with 1 Axes>"
            ],
            "image/png": "[encoded data removed]"
          },
          "metadata": {}
        }
      ]
    },
    {
      "cell_type": "markdown",
      "source": [
        "Por Jurisdiccion"
      ],
      "metadata": {
        "id": "1QjB295aiBQC"
      }
    },
    {
      "cell_type": "code",
      "source": [
        "df.groupby('JURISDICCION')['CANTIDAD'].sum().sort_values(ascending=False)"
      ],
      "metadata": {
        "colab": {
          "base_uri": "https://localhost:8080/",
          "height": 272
        },
        "id": "N1xui7Y7iD9J",
        "outputId": "24acfe25-6a21-460c-898a-869512bbada6"
      },
      "execution_count": 110,
      "outputs": [
        {
          "output_type": "execute_result",
          "data": {
            "text/plain": [
              "JURISDICCION\n",
              "NACIONAL      1088942545\n",
              "PROVINCIAL     937707746\n",
              "MUNICIPAL      832290781\n",
              "C.A.B.A        179206642\n",
              "Sin datos      117695124\n",
              "Name: CANTIDAD, dtype: int64"
            ],
            "text/html": [
              "<div>\n",
              "<style scoped>\n",
              "    .dataframe tbody tr th:only-of-type {\n",
              "        vertical-align: middle;\n",
              "    }\n",
              "\n",
              "    .dataframe tbody tr th {\n",
              "        vertical-align: top;\n",
              "    }\n",
              "\n",
              "    .dataframe thead th {\n",
              "        text-align: right;\n",
              "    }\n",
              "</style>\n",
              "<table border=\"1\" class=\"dataframe\">\n",
              "  <thead>\n",
              "    <tr style=\"text-align: right;\">\n",
              "      <th></th>\n",
              "      <th>CANTIDAD</th>\n",
              "    </tr>\n",
              "    <tr>\n",
              "      <th>JURISDICCION</th>\n",
              "      <th></th>\n",
              "    </tr>\n",
              "  </thead>\n",
              "  <tbody>\n",
              "    <tr>\n",
              "      <th>NACIONAL</th>\n",
              "      <td>1088942545</td>\n",
              "    </tr>\n",
              "    <tr>\n",
              "      <th>PROVINCIAL</th>\n",
              "      <td>937707746</td>\n",
              "    </tr>\n",
              "    <tr>\n",
              "      <th>MUNICIPAL</th>\n",
              "      <td>832290781</td>\n",
              "    </tr>\n",
              "    <tr>\n",
              "      <th>C.A.B.A</th>\n",
              "      <td>179206642</td>\n",
              "    </tr>\n",
              "    <tr>\n",
              "      <th>Sin datos</th>\n",
              "      <td>117695124</td>\n",
              "    </tr>\n",
              "  </tbody>\n",
              "</table>\n",
              "</div><br><label><b>dtype:</b> int64</label>"
            ]
          },
          "metadata": {},
          "execution_count": 110
        }
      ]
    },
    {
      "cell_type": "code",
      "source": [
        "df.groupby('JURISDICCION')['CANTIDAD'].sum().plot(kind='pie',  autopct='%1.1f%%')\n",
        "plt.ylabel('')\n",
        "plt.xlabel('')\n",
        "plt.show()"
      ],
      "metadata": {
        "colab": {
          "base_uri": "https://localhost:8080/",
          "height": 406
        },
        "id": "IJx0UOC-iIrx",
        "outputId": "b924a52c-174a-447e-c1be-344d85666aa6"
      },
      "execution_count": 111,
      "outputs": [
        {
          "output_type": "display_data",
          "data": {
            "text/plain": [
              "<Figure size 640x480 with 1 Axes>"
            ],
            "image/png": "[encoded data removed]"
          },
          "metadata": {}
        }
      ]
    },
    {
      "cell_type": "markdown",
      "source": [
        "Por provincia"
      ],
      "metadata": {
        "id": "kzuidrB1YWX6"
      }
    },
    {
      "cell_type": "code",
      "source": [
        "df['PROVINCIA'].unique()"
      ],
      "metadata": {
        "colab": {
          "base_uri": "https://localhost:8080/"
        },
        "id": "M3f7Kfa1Z_T2",
        "outputId": "49d94743-225c-4e5e-f755-8bdc2ab3a9de"
      },
      "execution_count": 112,
      "outputs": [
        {
          "output_type": "execute_result",
          "data": {
            "text/plain": [
              "array(['BUENOS AIRES', 'JURISDICCION NACIONAL', 'Sin datos', 'CHUBUT',\n",
              "       'ENTRE RÍOS', 'LA PAMPA', 'TUCUMAN', 'MENDOZA', 'SANTA FE',\n",
              "       'RÍO NEGRO', 'FORMOSA', 'SANTA CRUZ', 'TIERRA DEL FUEGO', 'JUJUY',\n",
              "       'NEUQUÉN', 'CHACO', 'CORRIENTES', 'CATAMARCA', 'SAN LUIS',\n",
              "       'CORDOBA', 'SANTIAGO DEL ESTERO', 'SAN JUAN', 'C.A.B.A'],\n",
              "      dtype=object)"
            ]
          },
          "metadata": {},
          "execution_count": 112
        }
      ]
    },
    {
      "cell_type": "code",
      "source": [
        "df.groupby('PROVINCIA')['CANTIDAD'].sum().sort_values(ascending=False)"
      ],
      "metadata": {
        "colab": {
          "base_uri": "https://localhost:8080/",
          "height": 837
        },
        "id": "TNe9T6_OVrAr",
        "outputId": "c5139b50-683c-4763-e1c7-d24f3d841c13"
      },
      "execution_count": 113,
      "outputs": [
        {
          "output_type": "execute_result",
          "data": {
            "text/plain": [
              "PROVINCIA\n",
              "BUENOS AIRES             1184963455\n",
              "JURISDICCION NACIONAL    1088942545\n",
              "C.A.B.A                   179240527\n",
              "MENDOZA                   162579562\n",
              "SANTA FE                  120415049\n",
              "Sin datos                 117695124\n",
              "SAN JUAN                   68680837\n",
              "JUJUY                      46065401\n",
              "NEUQUÉN                    25531973\n",
              "CORDOBA                    21714572\n",
              "CHUBUT                     20304097\n",
              "ENTRE RÍOS                 20139783\n",
              "TUCUMAN                    19797833\n",
              "CORRIENTES                 18277513\n",
              "CHACO                      14017126\n",
              "RÍO NEGRO                  12526977\n",
              "CATAMARCA                  10959953\n",
              "SAN LUIS                    9799403\n",
              "TIERRA DEL FUEGO            5998512\n",
              "FORMOSA                     3798931\n",
              "LA PAMPA                    1981614\n",
              "SANTA CRUZ                  1795207\n",
              "SANTIAGO DEL ESTERO          616844\n",
              "Name: CANTIDAD, dtype: int64"
            ],
            "text/html": [
              "<div>\n",
              "<style scoped>\n",
              "    .dataframe tbody tr th:only-of-type {\n",
              "        vertical-align: middle;\n",
              "    }\n",
              "\n",
              "    .dataframe tbody tr th {\n",
              "        vertical-align: top;\n",
              "    }\n",
              "\n",
              "    .dataframe thead th {\n",
              "        text-align: right;\n",
              "    }\n",
              "</style>\n",
              "<table border=\"1\" class=\"dataframe\">\n",
              "  <thead>\n",
              "    <tr style=\"text-align: right;\">\n",
              "      <th></th>\n",
              "      <th>CANTIDAD</th>\n",
              "    </tr>\n",
              "    <tr>\n",
              "      <th>PROVINCIA</th>\n",
              "      <th></th>\n",
              "    </tr>\n",
              "  </thead>\n",
              "  <tbody>\n",
              "    <tr>\n",
              "      <th>BUENOS AIRES</th>\n",
              "      <td>1184963455</td>\n",
              "    </tr>\n",
              "    <tr>\n",
              "      <th>JURISDICCION NACIONAL</th>\n",
              "      <td>1088942545</td>\n",
              "    </tr>\n",
              "    <tr>\n",
              "      <th>C.A.B.A</th>\n",
              "      <td>179240527</td>\n",
              "    </tr>\n",
              "    <tr>\n",
              "      <th>MENDOZA</th>\n",
              "      <td>162579562</td>\n",
              "    </tr>\n",
              "    <tr>\n",
              "      <th>SANTA FE</th>\n",
              "      <td>120415049</td>\n",
              "    </tr>\n",
              "    <tr>\n",
              "      <th>Sin datos</th>\n",
              "      <td>117695124</td>\n",
              "    </tr>\n",
              "    <tr>\n",
              "      <th>SAN JUAN</th>\n",
              "      <td>68680837</td>\n",
              "    </tr>\n",
              "    <tr>\n",
              "      <th>JUJUY</th>\n",
              "      <td>46065401</td>\n",
              "    </tr>\n",
              "    <tr>\n",
              "      <th>NEUQUÉN</th>\n",
              "      <td>25531973</td>\n",
              "    </tr>\n",
              "    <tr>\n",
              "      <th>CORDOBA</th>\n",
              "      <td>21714572</td>\n",
              "    </tr>\n",
              "    <tr>\n",
              "      <th>CHUBUT</th>\n",
              "      <td>20304097</td>\n",
              "    </tr>\n",
              "    <tr>\n",
              "      <th>ENTRE RÍOS</th>\n",
              "      <td>20139783</td>\n",
              "    </tr>\n",
              "    <tr>\n",
              "      <th>TUCUMAN</th>\n",
              "      <td>19797833</td>\n",
              "    </tr>\n",
              "    <tr>\n",
              "      <th>CORRIENTES</th>\n",
              "      <td>18277513</td>\n",
              "    </tr>\n",
              "    <tr>\n",
              "      <th>CHACO</th>\n",
              "      <td>14017126</td>\n",
              "    </tr>\n",
              "    <tr>\n",
              "      <th>RÍO NEGRO</th>\n",
              "      <td>12526977</td>\n",
              "    </tr>\n",
              "    <tr>\n",
              "      <th>CATAMARCA</th>\n",
              "      <td>10959953</td>\n",
              "    </tr>\n",
              "    <tr>\n",
              "      <th>SAN LUIS</th>\n",
              "      <td>9799403</td>\n",
              "    </tr>\n",
              "    <tr>\n",
              "      <th>TIERRA DEL FUEGO</th>\n",
              "      <td>5998512</td>\n",
              "    </tr>\n",
              "    <tr>\n",
              "      <th>FORMOSA</th>\n",
              "      <td>3798931</td>\n",
              "    </tr>\n",
              "    <tr>\n",
              "      <th>LA PAMPA</th>\n",
              "      <td>1981614</td>\n",
              "    </tr>\n",
              "    <tr>\n",
              "      <th>SANTA CRUZ</th>\n",
              "      <td>1795207</td>\n",
              "    </tr>\n",
              "    <tr>\n",
              "      <th>SANTIAGO DEL ESTERO</th>\n",
              "      <td>616844</td>\n",
              "    </tr>\n",
              "  </tbody>\n",
              "</table>\n",
              "</div><br><label><b>dtype:</b> int64</label>"
            ]
          },
          "metadata": {},
          "execution_count": 113
        }
      ]
    },
    {
      "cell_type": "code",
      "source": [
        "df.groupby('PROVINCIA')['CANTIDAD'].sum().sort_values().plot(kind='barh')\n",
        "plt.xticks([])"
      ],
      "metadata": {
        "colab": {
          "base_uri": "https://localhost:8080/",
          "height": 424
        },
        "id": "2mMlibY4Yztw",
        "outputId": "edc92de3-4282-4291-9294-430d4be154af"
      },
      "execution_count": 114,
      "outputs": [
        {
          "output_type": "execute_result",
          "data": {
            "text/plain": [
              "([], [])"
            ]
          },
          "metadata": {},
          "execution_count": 114
        },
        {
          "output_type": "display_data",
          "data": {
            "text/plain": [
              "<Figure size 640x480 with 1 Axes>"
            ],
            "image/png": "[encoded data removed]"
          },
          "metadata": {}
        }
      ]
    },
    {
      "cell_type": "markdown",
      "source": [
        "Por meses"
      ],
      "metadata": {
        "id": "tDNQcOMce_8O"
      }
    },
    {
      "cell_type": "code",
      "source": [
        "df.groupby('MES')['CANTIDAD'].sum().sort_values(ascending=False)"
      ],
      "metadata": {
        "colab": {
          "base_uri": "https://localhost:8080/",
          "height": 429
        },
        "id": "D3RYk2EQfBnW",
        "outputId": "70b8d0ab-503c-4763-a986-5e21f78ded63"
      },
      "execution_count": 115,
      "outputs": [
        {
          "output_type": "execute_result",
          "data": {
            "text/plain": [
              "MES\n",
              "Septiembre    355680998\n",
              "Abril         347072568\n",
              "Agosto        343919977\n",
              "Mayo          340627745\n",
              "Julio         332078104\n",
              "Marzo         329032176\n",
              "Junio         328219376\n",
              "Enero         270681840\n",
              "Febrero       270547148\n",
              "Octubre       237982906\n",
              "Name: CANTIDAD, dtype: int64"
            ],
            "text/html": [
              "<div>\n",
              "<style scoped>\n",
              "    .dataframe tbody tr th:only-of-type {\n",
              "        vertical-align: middle;\n",
              "    }\n",
              "\n",
              "    .dataframe tbody tr th {\n",
              "        vertical-align: top;\n",
              "    }\n",
              "\n",
              "    .dataframe thead th {\n",
              "        text-align: right;\n",
              "    }\n",
              "</style>\n",
              "<table border=\"1\" class=\"dataframe\">\n",
              "  <thead>\n",
              "    <tr style=\"text-align: right;\">\n",
              "      <th></th>\n",
              "      <th>CANTIDAD</th>\n",
              "    </tr>\n",
              "    <tr>\n",
              "      <th>MES</th>\n",
              "      <th></th>\n",
              "    </tr>\n",
              "  </thead>\n",
              "  <tbody>\n",
              "    <tr>\n",
              "      <th>Septiembre</th>\n",
              "      <td>355680998</td>\n",
              "    </tr>\n",
              "    <tr>\n",
              "      <th>Abril</th>\n",
              "      <td>347072568</td>\n",
              "    </tr>\n",
              "    <tr>\n",
              "      <th>Agosto</th>\n",
              "      <td>343919977</td>\n",
              "    </tr>\n",
              "    <tr>\n",
              "      <th>Mayo</th>\n",
              "      <td>340627745</td>\n",
              "    </tr>\n",
              "    <tr>\n",
              "      <th>Julio</th>\n",
              "      <td>332078104</td>\n",
              "    </tr>\n",
              "    <tr>\n",
              "      <th>Marzo</th>\n",
              "      <td>329032176</td>\n",
              "    </tr>\n",
              "    <tr>\n",
              "      <th>Junio</th>\n",
              "      <td>328219376</td>\n",
              "    </tr>\n",
              "    <tr>\n",
              "      <th>Enero</th>\n",
              "      <td>270681840</td>\n",
              "    </tr>\n",
              "    <tr>\n",
              "      <th>Febrero</th>\n",
              "      <td>270547148</td>\n",
              "    </tr>\n",
              "    <tr>\n",
              "      <th>Octubre</th>\n",
              "      <td>237982906</td>\n",
              "    </tr>\n",
              "  </tbody>\n",
              "</table>\n",
              "</div><br><label><b>dtype:</b> int64</label>"
            ]
          },
          "metadata": {},
          "execution_count": 115
        }
      ]
    },
    {
      "cell_type": "code",
      "source": [
        "df.groupby('MES')['CANTIDAD'].sum().sort_values(ascending=True).plot(kind=\"barh\")\n",
        "plt.xticks([])"
      ],
      "metadata": {
        "colab": {
          "base_uri": "https://localhost:8080/",
          "height": 423
        },
        "id": "6LOjAENMffve",
        "outputId": "17008959-ea82-4820-d923-9c22ef068573"
      },
      "execution_count": 116,
      "outputs": [
        {
          "output_type": "execute_result",
          "data": {
            "text/plain": [
              "([], [])"
            ]
          },
          "metadata": {},
          "execution_count": 116
        },
        {
          "output_type": "display_data",
          "data": {
            "text/plain": [
              "<Figure size 640x480 with 1 Axes>"
            ],
            "image/png": "[encoded data removed]"
          },
          "metadata": {}
        }
      ]
    },
    {
      "cell_type": "code",
      "source": [
        "df.groupby('MES')['CANTIDAD'].sum().sort_values(ascending=True).plot(kind='line')\n",
        "plt.yticks([])"
      ],
      "metadata": {
        "colab": {
          "base_uri": "https://localhost:8080/",
          "height": 466
        },
        "id": "j2aVkumRTDuJ",
        "outputId": "b2280cca-6d11-4018-9777-95398bf21767"
      },
      "execution_count": 117,
      "outputs": [
        {
          "output_type": "execute_result",
          "data": {
            "text/plain": [
              "([], [])"
            ]
          },
          "metadata": {},
          "execution_count": 117
        },
        {
          "output_type": "display_data",
          "data": {
            "text/plain": [
              "<Figure size 640x480 with 1 Axes>"
            ],
            "image/png": "[encoded data removed]"
          },
          "metadata": {}
        }
      ]
    },
    {
      "cell_type": "code",
      "source": [
        "df.groupby('DIA')['CANTIDAD'].sum().sort_values(ascending=False)"
      ],
      "metadata": {
        "colab": {
          "base_uri": "https://localhost:8080/",
          "height": 335
        },
        "id": "I-Noz72IDf-q",
        "outputId": "c5e5d712-83cc-4121-e43b-dabfe3a58726"
      },
      "execution_count": 118,
      "outputs": [
        {
          "output_type": "execute_result",
          "data": {
            "text/plain": [
              "DIA\n",
              "Miércoles    546833605\n",
              "Jueves       540659237\n",
              "Martes       539719469\n",
              "Lunes        519437645\n",
              "Viernes      519102481\n",
              "Sábado       321662500\n",
              "Domingo      168427901\n",
              "Name: CANTIDAD, dtype: int64"
            ],
            "text/html": [
              "<div>\n",
              "<style scoped>\n",
              "    .dataframe tbody tr th:only-of-type {\n",
              "        vertical-align: middle;\n",
              "    }\n",
              "\n",
              "    .dataframe tbody tr th {\n",
              "        vertical-align: top;\n",
              "    }\n",
              "\n",
              "    .dataframe thead th {\n",
              "        text-align: right;\n",
              "    }\n",
              "</style>\n",
              "<table border=\"1\" class=\"dataframe\">\n",
              "  <thead>\n",
              "    <tr style=\"text-align: right;\">\n",
              "      <th></th>\n",
              "      <th>CANTIDAD</th>\n",
              "    </tr>\n",
              "    <tr>\n",
              "      <th>DIA</th>\n",
              "      <th></th>\n",
              "    </tr>\n",
              "  </thead>\n",
              "  <tbody>\n",
              "    <tr>\n",
              "      <th>Miércoles</th>\n",
              "      <td>546833605</td>\n",
              "    </tr>\n",
              "    <tr>\n",
              "      <th>Jueves</th>\n",
              "      <td>540659237</td>\n",
              "    </tr>\n",
              "    <tr>\n",
              "      <th>Martes</th>\n",
              "      <td>539719469</td>\n",
              "    </tr>\n",
              "    <tr>\n",
              "      <th>Lunes</th>\n",
              "      <td>519437645</td>\n",
              "    </tr>\n",
              "    <tr>\n",
              "      <th>Viernes</th>\n",
              "      <td>519102481</td>\n",
              "    </tr>\n",
              "    <tr>\n",
              "      <th>Sábado</th>\n",
              "      <td>321662500</td>\n",
              "    </tr>\n",
              "    <tr>\n",
              "      <th>Domingo</th>\n",
              "      <td>168427901</td>\n",
              "    </tr>\n",
              "  </tbody>\n",
              "</table>\n",
              "</div><br><label><b>dtype:</b> int64</label>"
            ]
          },
          "metadata": {},
          "execution_count": 118
        }
      ]
    },
    {
      "cell_type": "code",
      "source": [
        "df.groupby('DIA')['CANTIDAD'].sum().sort_values().plot(kind=\"barh\")\n",
        "plt.xticks([])"
      ],
      "metadata": {
        "colab": {
          "base_uri": "https://localhost:8080/",
          "height": 423
        },
        "id": "cMg6hrDsDuZI",
        "outputId": "11d42e16-8a06-4b95-c01f-7fb407a16916"
      },
      "execution_count": 119,
      "outputs": [
        {
          "output_type": "execute_result",
          "data": {
            "text/plain": [
              "([], [])"
            ]
          },
          "metadata": {},
          "execution_count": 119
        },
        {
          "output_type": "display_data",
          "data": {
            "text/plain": [
              "<Figure size 640x480 with 1 Axes>"
            ],
            "image/png": "[encoded data removed]"
          },
          "metadata": {}
        }
      ]
    },
    {
      "cell_type": "code",
      "source": [
        "df.groupby('DIA')['CANTIDAD'].sum().sort_values().plot(kind='line')\n",
        "plt.yticks([])\n",
        "plt.xlabel(' ')\n",
        "plt.show()\n",
        "\n"
      ],
      "metadata": {
        "colab": {
          "base_uri": "https://localhost:8080/",
          "height": 449
        },
        "id": "jr7IQf7JSxNL",
        "outputId": "8d85ebd3-c966-4bdf-ea88-e695faeaa27a"
      },
      "execution_count": 120,
      "outputs": [
        {
          "output_type": "display_data",
          "data": {
            "text/plain": [
              "<Figure size 640x480 with 1 Axes>"
            ],
            "image/png": "[encoded data removed]"
          },
          "metadata": {}
        }
      ]
    },
    {
      "cell_type": "markdown",
      "source": [
        "Top 10 empresas"
      ],
      "metadata": {
        "id": "jTaLO-nQESZJ"
      }
    },
    {
      "cell_type": "code",
      "source": [
        "df.groupby('NOMBRE_EMPRESA')['CANTIDAD'].sum().sort_values(ascending=False).head(10)\n"
      ],
      "metadata": {
        "colab": {
          "base_uri": "https://localhost:8080/",
          "height": 429
        },
        "id": "WWm3530vEBvQ",
        "outputId": "87b51dc2-42fe-4751-fce7-3d94df0ed8e1"
      },
      "execution_count": 121,
      "outputs": [
        {
          "output_type": "execute_result",
          "data": {
            "text/plain": [
              "NOMBRE_EMPRESA\n",
              "EMOVA MOVILIDAD S.A. (ex MTV)     117695124\n",
              "SOFSE - Roca                       90348030\n",
              "TRANSPORTES LA PERLITA S.A.        64692997\n",
              "EMPRESA LINEA 216 S.A.T.           62876959\n",
              "SOFSE- SARMIENTO                   58357503\n",
              "ROSARIO BUS  S.A                   48209958\n",
              "LA CABAÑA S.A.                     48032325\n",
              "GENERAL TOMAS GUIDO S.A.C.I.F.     43948078\n",
              "ERSA URBANO SA                     42557842\n",
              "LA NUEVA METROPOL S.A.             42321600\n",
              "Name: CANTIDAD, dtype: int64"
            ],
            "text/html": [
              "<div>\n",
              "<style scoped>\n",
              "    .dataframe tbody tr th:only-of-type {\n",
              "        vertical-align: middle;\n",
              "    }\n",
              "\n",
              "    .dataframe tbody tr th {\n",
              "        vertical-align: top;\n",
              "    }\n",
              "\n",
              "    .dataframe thead th {\n",
              "        text-align: right;\n",
              "    }\n",
              "</style>\n",
              "<table border=\"1\" class=\"dataframe\">\n",
              "  <thead>\n",
              "    <tr style=\"text-align: right;\">\n",
              "      <th></th>\n",
              "      <th>CANTIDAD</th>\n",
              "    </tr>\n",
              "    <tr>\n",
              "      <th>NOMBRE_EMPRESA</th>\n",
              "      <th></th>\n",
              "    </tr>\n",
              "  </thead>\n",
              "  <tbody>\n",
              "    <tr>\n",
              "      <th>EMOVA MOVILIDAD S.A. (ex MTV)</th>\n",
              "      <td>117695124</td>\n",
              "    </tr>\n",
              "    <tr>\n",
              "      <th>SOFSE - Roca</th>\n",
              "      <td>90348030</td>\n",
              "    </tr>\n",
              "    <tr>\n",
              "      <th>TRANSPORTES LA PERLITA S.A.</th>\n",
              "      <td>64692997</td>\n",
              "    </tr>\n",
              "    <tr>\n",
              "      <th>EMPRESA LINEA 216 S.A.T.</th>\n",
              "      <td>62876959</td>\n",
              "    </tr>\n",
              "    <tr>\n",
              "      <th>SOFSE- SARMIENTO</th>\n",
              "      <td>58357503</td>\n",
              "    </tr>\n",
              "    <tr>\n",
              "      <th>ROSARIO BUS  S.A</th>\n",
              "      <td>48209958</td>\n",
              "    </tr>\n",
              "    <tr>\n",
              "      <th>LA CABAÑA S.A.</th>\n",
              "      <td>48032325</td>\n",
              "    </tr>\n",
              "    <tr>\n",
              "      <th>GENERAL TOMAS GUIDO S.A.C.I.F.</th>\n",
              "      <td>43948078</td>\n",
              "    </tr>\n",
              "    <tr>\n",
              "      <th>ERSA URBANO SA</th>\n",
              "      <td>42557842</td>\n",
              "    </tr>\n",
              "    <tr>\n",
              "      <th>LA NUEVA METROPOL S.A.</th>\n",
              "      <td>42321600</td>\n",
              "    </tr>\n",
              "  </tbody>\n",
              "</table>\n",
              "</div><br><label><b>dtype:</b> int64</label>"
            ]
          },
          "metadata": {},
          "execution_count": 121
        }
      ]
    },
    {
      "cell_type": "code",
      "source": [
        "df.groupby('NOMBRE_EMPRESA')['CANTIDAD'].sum().sort_values(ascending=False).head(10).plot(kind='barh')\n",
        "plt.xlabel('Cantidad de usos')\n",
        "plt.ylabel('Empresa')\n",
        "plt.title('Top 10 empresas')\n",
        "plt.xticks([])\n",
        "plt.show()"
      ],
      "metadata": {
        "colab": {
          "base_uri": "https://localhost:8080/",
          "height": 448
        },
        "id": "nWDF7KsvFA9P",
        "outputId": "44fc40b9-10e9-4f4f-da0d-f84930686c79"
      },
      "execution_count": 122,
      "outputs": [
        {
          "output_type": "display_data",
          "data": {
            "text/plain": [
              "<Figure size 640x480 with 1 Axes>"
            ],
            "image/png": "[encoded data removed]"
          },
          "metadata": {}
        }
      ]
    }
  ]
}